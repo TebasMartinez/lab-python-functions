{
 "cells": [
  {
   "cell_type": "markdown",
   "id": "25d7736c-ba17-4aff-b6bb-66eba20fbf4e",
   "metadata": {},
   "source": [
    "# Lab | Functions"
   ]
  },
  {
   "cell_type": "markdown",
   "id": "0c581062-8967-4d93-b06e-62833222f930",
   "metadata": {
    "tags": []
   },
   "source": [
    "## Exercise: Managing Customer Orders with Functions\n",
    "\n",
    "In the previous exercise, you improved the code for managing customer orders by using loops and flow control. Now, let's take it a step further and refactor the code by introducing functions.\n",
    "\n",
    "Follow the steps below to complete the exercise:\n",
    "\n",
    "1. Define a function named `initialize_inventory` that takes `products` as a parameter. Inside the function, implement the code for initializing the inventory dictionary using a loop and user input.\n",
    "\n",
    "2. Define a function named `get_customer_orders` that takes no parameters. Inside the function, implement the code for prompting the user to enter the product names using a loop. The function should return the `customer_orders` set.\n",
    "\n",
    "3. Define a function named `update_inventory` that takes `customer_orders` and `inventory` as parameters. Inside the function, implement the code for updating the inventory dictionary based on the customer orders.\n",
    "\n",
    "4. Define a function named `calculate_order_statistics` that takes `customer_orders` and `products` as parameters. Inside the function, implement the code for calculating the order statistics (total products ordered, and percentage of unique products ordered). The function should return these values.\n",
    "\n",
    "5. Define a function named `print_order_statistics` that takes `order_statistics` as a parameter. Inside the function, implement the code for printing the order statistics.\n",
    "\n",
    "6. Define a function named `print_updated_inventory` that takes `inventory` as a parameter. Inside the function, implement the code for printing the updated inventory.\n",
    "\n",
    "7. Call the functions in the appropriate sequence to execute the program and manage customer orders.\n",
    "\n",
    "Hints for functions:\n",
    "\n",
    "- Consider the input parameters required for each function and their return values.\n",
    "- Utilize function parameters and return values to transfer data between functions.\n",
    "- Test your functions individually to ensure they work correctly.\n",
    "\n",
    "\n"
   ]
  },
  {
   "cell_type": "code",
   "execution_count": 1,
   "id": "c6014ff6-d4d3-4dd0-ab32-6fd6650a197a",
   "metadata": {},
   "outputs": [],
   "source": [
    "# 1\n",
    "def initialize_inventory(products):\n",
    "    inventory = {}\n",
    "    for product in products:\n",
    "        inventory[product] = input(f\"Please provide number of {product} available: \")\n",
    "    return inventory"
   ]
  },
  {
   "cell_type": "code",
   "execution_count": 31,
   "id": "525e1ecf-0df1-478d-8e18-34ecc47da638",
   "metadata": {},
   "outputs": [],
   "source": [
    "# 2\n",
    "def get_customer_orders():\n",
    "    customer_orders = set()\n",
    "    answer = \"yes\"\n",
    "    while answer != \"no\":\n",
    "        customer_orders.add(input(f\"Please add product to the order: \"))\n",
    "        answer = input(\"Would you like to add another product? (yes/no) \")\n",
    "    if answer == \"no\":\n",
    "        print(\"Thank you for your order!\")\n",
    "    return customer_orders"
   ]
  },
  {
   "cell_type": "code",
   "execution_count": 32,
   "id": "0c1d5d30-74d8-4406-a75e-096ff4332086",
   "metadata": {},
   "outputs": [],
   "source": [
    "# 3\n",
    "def update_inventory(customer_orders, inventory):\n",
    "    for product in customer_orders:\n",
    "        if product in inventory.keys():\n",
    "            prod = int(inventory[product])\n",
    "            prod -= 1\n",
    "            inventory[product] = str(prod)\n",
    "    return inventory"
   ]
  },
  {
   "cell_type": "code",
   "execution_count": 33,
   "id": "a1444467-5e43-4483-a54c-219291f14dce",
   "metadata": {},
   "outputs": [],
   "source": [
    "# 4\n",
    "def calculate_order_statistics(customer_orders, products):\n",
    "    total_products_ordered = len(customer_orders)\n",
    "    perc = (total_products_ordered / len(products)) * 100\n",
    "    order_statistics = [total_products_ordered, int(perc)]\n",
    "    return order_statistics\n"
   ]
  },
  {
   "cell_type": "code",
   "execution_count": null,
   "id": "e30a3a6b-6e47-4205-92b1-5fa733bcb379",
   "metadata": {},
   "outputs": [],
   "source": []
  },
  {
   "cell_type": "code",
   "execution_count": 44,
   "id": "86860bac-379f-4545-9820-6e09bb1fb986",
   "metadata": {},
   "outputs": [],
   "source": [
    "# 5\n",
    "def print_order_statistics(order_statistics):\n",
    "    print(f\"The total number of products ordered is {order_statistics[0]}, and the percentage of unique products ordered is {order_statistics[1]}%\")"
   ]
  },
  {
   "cell_type": "code",
   "execution_count": 47,
   "id": "af154953-9d2c-492d-a8b4-1156cc2d17d8",
   "metadata": {},
   "outputs": [],
   "source": [
    "# 6\n",
    "def print_updated_inventory(inventory):\n",
    "    print(f\"The updated inventory is: {inventory}\")"
   ]
  },
  {
   "cell_type": "code",
   "execution_count": 37,
   "id": "e1728742-1af9-4587-af27-4f7e8d940b72",
   "metadata": {},
   "outputs": [],
   "source": [
    "# 7\n",
    "products = [\"t-shirt\", \"mug\", \"hat\", \"book\", \"keychain\"]"
   ]
  },
  {
   "cell_type": "code",
   "execution_count": 38,
   "id": "4cf9c3b9-f09a-40eb-841e-ae21642e62b9",
   "metadata": {},
   "outputs": [
    {
     "name": "stdin",
     "output_type": "stream",
     "text": [
      "Please provide number of t-shirt available:  5\n",
      "Please provide number of mug available:  8\n",
      "Please provide number of hat available:  34\n",
      "Please provide number of book available:  2\n",
      "Please provide number of keychain available:  6\n"
     ]
    }
   ],
   "source": [
    "inventory = initialize_inventory(products)"
   ]
  },
  {
   "cell_type": "code",
   "execution_count": 16,
   "id": "155e4025-d9f8-4867-8af8-aeb20fb9d0b2",
   "metadata": {},
   "outputs": [
    {
     "name": "stdin",
     "output_type": "stream",
     "text": [
      "Please add product to the order:  book\n",
      "Would you like to add another product? (yes/no)  yes\n",
      "Please add product to the order:  mug\n",
      "Would you like to add another product? (yes/no)  yes\n",
      "Please add product to the order:  keychain\n",
      "Would you like to add another product? (yes/no)  no\n"
     ]
    },
    {
     "name": "stdout",
     "output_type": "stream",
     "text": [
      "Thank you for your order!\n"
     ]
    }
   ],
   "source": [
    "customer_orders = get_customer_orders()"
   ]
  },
  {
   "cell_type": "code",
   "execution_count": 39,
   "id": "38373a26-b7da-4517-821f-3c8fd93e1911",
   "metadata": {},
   "outputs": [],
   "source": [
    "inventory = update_inventory(customer_orders, inventory)"
   ]
  },
  {
   "cell_type": "code",
   "execution_count": 42,
   "id": "dd1e3e25-d19d-40e7-9c1d-6d1c9c640ada",
   "metadata": {},
   "outputs": [],
   "source": [
    "order_statistics = calculate_order_statistics(customer_orders, products)"
   ]
  },
  {
   "cell_type": "code",
   "execution_count": 45,
   "id": "43fc4aa8-9c91-4425-add9-086bad98f601",
   "metadata": {
    "scrolled": true
   },
   "outputs": [
    {
     "name": "stdout",
     "output_type": "stream",
     "text": [
      "The total number of products ordered is 3, and the percentage of unique products ordered is 60%\n"
     ]
    }
   ],
   "source": [
    "print_order_statistics(order_statistics)"
   ]
  },
  {
   "cell_type": "code",
   "execution_count": 48,
   "id": "dff0987b-4aae-41ee-b29e-27f0c2982fa7",
   "metadata": {},
   "outputs": [
    {
     "name": "stdout",
     "output_type": "stream",
     "text": [
      "The updated inventory is: {'t-shirt': '5', 'mug': '7', 'hat': '34', 'book': '1', 'keychain': '5'}\n"
     ]
    }
   ],
   "source": [
    "print_updated_inventory(inventory)"
   ]
  }
 ],
 "metadata": {
  "kernelspec": {
   "display_name": "Python [conda env:base] *",
   "language": "python",
   "name": "conda-base-py"
  },
  "language_info": {
   "codemirror_mode": {
    "name": "ipython",
    "version": 3
   },
   "file_extension": ".py",
   "mimetype": "text/x-python",
   "name": "python",
   "nbconvert_exporter": "python",
   "pygments_lexer": "ipython3",
   "version": "3.12.7"
  }
 },
 "nbformat": 4,
 "nbformat_minor": 5
}
